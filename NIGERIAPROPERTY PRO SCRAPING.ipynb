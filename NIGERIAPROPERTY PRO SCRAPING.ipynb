{
 "cells": [
  {
   "cell_type": "code",
   "execution_count": 1,
   "id": "8336b200",
   "metadata": {},
   "outputs": [],
   "source": [
    "import requests\n",
    "\n",
    "from bs4 import BeautifulSoup"
   ]
  },
  {
   "cell_type": "code",
   "execution_count": 3,
   "id": "bcd49b9a",
   "metadata": {},
   "outputs": [],
   "source": [
    "import pandas as pd"
   ]
  },
  {
   "cell_type": "code",
   "execution_count": 4,
   "id": "6d4521f1",
   "metadata": {},
   "outputs": [],
   "source": [
    "#THIS CODE SCRAPES ALL THE HOUSES FOR RENT IN LAGOS ON NIGERIANPROPERTYPRO.COM\n",
    "#Import all necessary libraries\n",
    "import requests\n",
    "\n",
    "from bs4 import BeautifulSoup\n",
    "#SCRAPE ALL THE HOUSE DESCRIPTION ON NIGERIAN PROPERTY PRO AND SAVE INTO A FILE\n",
    "propertydata = pd.DataFrame(columns=[\"Number of bedroom\", \"Location\",\"Price\"])\n",
    "url = 'https://nigeriapropertycentre.com/for-rent/lagos'\n",
    "for page in range(1,1186):\n",
    "    data = requests.get(url + '?page=' + str(page))\n",
    "    soup = BeautifulSoup(data.text,\"html.parser\")\n",
    "    houses = soup.find_all('div',class_=\"wp-block-body\")\n",
    "    for house in houses:\n",
    "        room = house.find('div',class_=\"wp-block-content clearfix text-xs-left text-sm-left\")\n",
    "        roo = room.find('a',href=True)\n",
    "        NoOfRoom = roo.find('h4',class_=\"content-title\").text\n",
    "        Loc = house.find('div',class_=\"wp-block-content clearfix text-xs-left text-sm-left\")\n",
    "        Loca = Loc.find('address',class_=\"voffset-bottom-10\")\n",
    "        Location = Loca.find('strong').text\n",
    "        Pri = house.find('div',class_=\"wp-block-content clearfix text-xs-left text-sm-left\")\n",
    "        Price = Pri.find('span',class_=\"pull-sm-left\").text\n",
    "        moreinfo = house.find('a',href = True)\n",
    "        propertydata = pd.concat([propertydata, pd.DataFrame({\"Number of bedroom\": [NoOfRoom], \"Location\": [Location], \"Price\": [Price]})], ignore_index=True)\n",
    "\n",
    "       #propertydata = propertydata.concat({\"Number of bedroom\":NoOfRoom, \"Location\":Location,\"Price\":Price}, ignore_index=True)\n",
    "\n"
   ]
  }
 ],
 "metadata": {
  "kernelspec": {
   "display_name": "Python 3",
   "language": "python",
   "name": "python3"
  },
  "language_info": {
   "codemirror_mode": {
    "name": "ipython",
    "version": 3
   },
   "file_extension": ".py",
   "mimetype": "text/x-python",
   "name": "python",
   "nbconvert_exporter": "python",
   "pygments_lexer": "ipython3",
   "version": "3.8.5"
  }
 },
 "nbformat": 4,
 "nbformat_minor": 5
}
